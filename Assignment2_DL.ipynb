{
  "nbformat": 4,
  "nbformat_minor": 0,
  "metadata": {
    "colab": {
      "name": "Assignment2_DL.ipynb",
      "provenance": []
    },
    "kernelspec": {
      "name": "python3",
      "display_name": "Python 3"
    },
    "language_info": {
      "name": "python"
    }
  },
  "cells": [
    {
      "cell_type": "code",
      "metadata": {
        "id": "dbQ2XXznrbFZ"
      },
      "source": [
        "import tensorflow as tf\n",
        "import numpy as np\n",
        "from tensorflow.keras import datasets, layers, models ,Model\n",
        "import matplotlib.pyplot as plt\n",
        "import random\n",
        "\n",
        "import tensorflow.keras.backend as K"
      ],
      "execution_count": 8,
      "outputs": []
    },
    {
      "cell_type": "code",
      "metadata": {
        "id": "8og8oJSw2wAV"
      },
      "source": [
        "#function to normalize to normalize the gradients \n",
        "def deprocess_image(x):\n",
        "    \"\"\"Same normalization as in:\n",
        "    https://github.com/fchollet/keras/blob/master/examples/conv_filter_visualization.py\n",
        "    \"\"\"\n",
        "    # normalize tensor: center on 0., ensure std is 0.25\n",
        "    x = x.copy()\n",
        "    x -= x.mean()\n",
        "    x /= (x.std() + K.epsilon())\n",
        "    x *= 0.25\n",
        "\n",
        "    # clip to [0, 1]\n",
        "    x += 0.5\n",
        "    x = np.clip(x, 0, 1)\n",
        "\n",
        "    # convert to RGB array\n",
        "    x *= 255\n",
        "    if K.image_data_format() == 'channels_first':\n",
        "        x = x.transpose((1, 2, 0))\n",
        "    x = np.clip(x, 0, 255).astype('uint8')\n",
        "    return x"
      ],
      "execution_count": 2,
      "outputs": []
    },
    {
      "cell_type": "code",
      "metadata": {
        "id": "z29_X0WEuOcL",
        "colab": {
          "base_uri": "https://localhost:8080/"
        },
        "outputId": "35643183-eb94-4ff3-e667-16110eb5b4de"
      },
      "source": [
        "model = models.Sequential()\n",
        "model.add(layers.Conv2D(32, (3, 3), activation='relu', input_shape=(32, 32, 3),name='cov_1'))\n",
        "model.add(layers.MaxPooling2D((2, 2)))\n",
        "model.add(layers.Conv2D(64, (3, 3), activation='relu',name='cov_2'))\n",
        "model.add(layers.MaxPooling2D((2, 2)))\n",
        "model.add(layers.Conv2D(64, (3, 3), activation='relu',name='cov_3'))\n",
        "model.add(layers.Flatten())\n",
        "model.add(layers.Dense(64, activation='relu'))\n",
        "model.add(layers.Dense(10))\n",
        "(train_images, train_labels), (test_images, test_labels) = datasets.cifar10.load_data()\n",
        "train_images, test_images = train_images / 255.0, test_images / 255.0\n",
        "train_images=train_images[0:100]\n",
        "train_labels=train_labels[0:100]\n",
        "test_images=test_images[0:100]\n",
        "test_labels=test_labels[0:100]\n",
        "print(train_images.shape)\n",
        "class_names = ['airplane', 'automobile', 'bird', 'cat', 'deer',\n",
        "               'dog', 'frog', 'horse', 'ship', 'truck']\n",
        "\n",
        "model.compile(optimizer='adam', loss=tf.keras.losses.SparseCategoricalCrossentropy(from_logits=True), metrics=['accuracy'])\n",
        "model.fit(train_images, train_labels,batch_size=5, epochs=10, validation_data=(test_images, test_labels))\n"
      ],
      "execution_count": 3,
      "outputs": [
        {
          "output_type": "stream",
          "text": [
            "(100, 32, 32, 3)\n",
            "Epoch 1/10\n",
            "20/20 [==============================] - 1s 37ms/step - loss: 2.3055 - accuracy: 0.0806 - val_loss: 2.4165 - val_accuracy: 0.0600\n",
            "Epoch 2/10\n",
            "20/20 [==============================] - 0s 16ms/step - loss: 2.2598 - accuracy: 0.2235 - val_loss: 2.3698 - val_accuracy: 0.0600\n",
            "Epoch 3/10\n",
            "20/20 [==============================] - 0s 17ms/step - loss: 2.1965 - accuracy: 0.2418 - val_loss: 2.4377 - val_accuracy: 0.1300\n",
            "Epoch 4/10\n",
            "20/20 [==============================] - 0s 16ms/step - loss: 2.1811 - accuracy: 0.2327 - val_loss: 2.3965 - val_accuracy: 0.0600\n",
            "Epoch 5/10\n",
            "20/20 [==============================] - 0s 16ms/step - loss: 2.1370 - accuracy: 0.1065 - val_loss: 2.4675 - val_accuracy: 0.1000\n",
            "Epoch 6/10\n",
            "20/20 [==============================] - 0s 16ms/step - loss: 2.0345 - accuracy: 0.2409 - val_loss: 2.3779 - val_accuracy: 0.1200\n",
            "Epoch 7/10\n",
            "20/20 [==============================] - 0s 17ms/step - loss: 2.0526 - accuracy: 0.3186 - val_loss: 2.5510 - val_accuracy: 0.0900\n",
            "Epoch 8/10\n",
            "20/20 [==============================] - 0s 16ms/step - loss: 1.8063 - accuracy: 0.3937 - val_loss: 2.5356 - val_accuracy: 0.1000\n",
            "Epoch 9/10\n",
            "20/20 [==============================] - 0s 16ms/step - loss: 1.6009 - accuracy: 0.3988 - val_loss: 2.4154 - val_accuracy: 0.1300\n",
            "Epoch 10/10\n",
            "20/20 [==============================] - 0s 16ms/step - loss: 1.6090 - accuracy: 0.4506 - val_loss: 2.5233 - val_accuracy: 0.1000\n"
          ],
          "name": "stdout"
        },
        {
          "output_type": "execute_result",
          "data": {
            "text/plain": [
              "<tensorflow.python.keras.callbacks.History at 0x7f348fa52590>"
            ]
          },
          "metadata": {
            "tags": []
          },
          "execution_count": 3
        }
      ]
    },
    {
      "cell_type": "code",
      "metadata": {
        "colab": {
          "base_uri": "https://localhost:8080/"
        },
        "id": "prM7k8MZxp5L",
        "outputId": "9cb08f73-3ecd-4615-dd95-64aed258581e"
      },
      "source": [
        "model.summary()"
      ],
      "execution_count": null,
      "outputs": [
        {
          "output_type": "stream",
          "text": [
            "Model: \"sequential_11\"\n",
            "_________________________________________________________________\n",
            "Layer (type)                 Output Shape              Param #   \n",
            "=================================================================\n",
            "cov_1 (Conv2D)               (None, 30, 30, 32)        896       \n",
            "_________________________________________________________________\n",
            "max_pooling2d_24 (MaxPooling (None, 15, 15, 32)        0         \n",
            "_________________________________________________________________\n",
            "cov_2 (Conv2D)               (None, 13, 13, 64)        18496     \n",
            "_________________________________________________________________\n",
            "max_pooling2d_25 (MaxPooling (None, 6, 6, 64)          0         \n",
            "_________________________________________________________________\n",
            "cov_3 (Conv2D)               (None, 4, 4, 64)          36928     \n",
            "_________________________________________________________________\n",
            "flatten_11 (Flatten)         (None, 1024)              0         \n",
            "_________________________________________________________________\n",
            "dense_22 (Dense)             (None, 64)                65600     \n",
            "_________________________________________________________________\n",
            "dense_23 (Dense)             (None, 10)                650       \n",
            "=================================================================\n",
            "Total params: 122,570\n",
            "Trainable params: 122,570\n",
            "Non-trainable params: 0\n",
            "_________________________________________________________________\n"
          ],
          "name": "stdout"
        }
      ]
    },
    {
      "cell_type": "code",
      "metadata": {
        "colab": {
          "base_uri": "https://localhost:8080/",
          "height": 663
        },
        "id": "6sVuM-Px22n8",
        "outputId": "06b9e9d3-b7da-4538-a318-d435aef91f78"
      },
      "source": [
        "\n",
        "@tf.custom_gradient\n",
        "#define the new gradient \n",
        "def guidedRelu(x):\n",
        "  def grad(dy):\n",
        "    return tf.cast(dy>0,\"float32\") * tf.cast(x>0, \"float32\") * dy\n",
        "  return tf.nn.relu(x), grad\n",
        "#create a sub model upto the desired layer here it is cov_3 later \n",
        "gb_model = Model(\n",
        "    inputs = [model.inputs],\n",
        "    outputs = [model.get_layer(\"cov_3\").output]\n",
        ")\n",
        "#find all layers which has activation as attribute \n",
        "layer_dict = [layer for layer in gb_model.layers[1:] if hasattr(layer,'activation')]\n",
        "#change the activation to guidedrelu\n",
        "for layer in layer_dict:\n",
        "  if layer.activation == tf.keras.activations.relu:\n",
        "    layer.activation = guidedRelu\n",
        "#gradient tape to record the values to find gradient later\n",
        "with tf.GradientTape(persistent=True) as tape:\n",
        "  #taking the 0th image as input\n",
        "  inputs = tf.cast(train_images[0].reshape([-1,32,32,3]), tf.float32)\n",
        "  #watch the values of input\n",
        "  tape.watch(inputs)\n",
        "  #forward prop it through the sub model \n",
        "  outputs = gb_model(inputs)\n",
        "  #to find out non zero entries\n",
        "  zero = tf.constant(0, dtype=tf.float32)\n",
        "  locations = tf.not_equal(outputs, zero)\n",
        "  #find their indices\n",
        "  indices = tf.where(locations)\n",
        "  #create a tensor array for storing the layer with only the non zero neuron \n",
        "  ta = tf.TensorArray(tf.float32,size=0,dynamic_size=True)\n",
        "  #sample 10 neurons from the non zero list of neuron indices \n",
        "  ind_set=random.sample(range(0,len(indices)),10)\n",
        "  #loop through the indices set\n",
        "  for i in ind_set:\n",
        "    #create a zero matrix \n",
        "    z=np.zeros_like(outputs)\n",
        "    #set the entry with index value same as that of the non zero neuron  \n",
        "    z[tuple(indices[i].numpy())]=1\n",
        "    #multiply this with the z matrix , we are doing this since we cant directly modify tensors\n",
        "    #hence using elementwise multiplication with zero matrix as a work around \n",
        "    #write it to the array \n",
        "    ta=ta.write(i,tf.math.multiply(outputs,z))\n",
        "#define a tensor array for gradients of each of these neurons \n",
        "tg=tf.TensorArray(tf.float32,size=0,dynamic_size=True,clear_after_read=False)\n",
        "#for each of the neurons find the gradient \n",
        "for i in ind_set:\n",
        "  tg= tg.write(i,tape.gradient(ta.read(i),inputs)[0])\n",
        "#plotting \n",
        "#plt.imshow((np.array(grads)))\n",
        "fig=plt.figure(figsize=(15, 15))\n",
        "columns = 5\n",
        "rows = 2\n",
        "#fig.subplots_adjust(hspace=0.2)\n",
        "for i in range(1, columns*rows +1):\n",
        "    fig.add_subplot(rows, columns, i)\n",
        "    plt.imshow(np.flip(deprocess_image(np.array(tg.read(ind_set[i-1]))),-1))\n",
        "plt.tight_layout() \n",
        "plt.show()\n",
        "\n"
      ],
      "execution_count": 16,
      "outputs": [
        {
          "output_type": "display_data",
          "data": {
            "image/png": "[encoded data removed]",
            "text/plain": [
              "<Figure size 1080x1080 with 10 Axes>"
            ]
          },
          "metadata": {
            "tags": [],
            "needs_background": "light"
          }
        }
      ]
    }
  ]
}